{
  "nbformat": 4,
  "nbformat_minor": 0,
  "metadata": {
    "colab": {
      "provenance": [],
      "authorship_tag": "ABX9TyOmxw6Yhvrm4fyncBMeHBh5",
      "include_colab_link": true
    },
    "kernelspec": {
      "name": "python3",
      "display_name": "Python 3"
    },
    "language_info": {
      "name": "python"
    }
  },
  "cells": [
    {
      "cell_type": "markdown",
      "metadata": {
        "id": "view-in-github",
        "colab_type": "text"
      },
      "source": [
        "<a href=\"https://colab.research.google.com/github/Isabelly-22/TurmaCIVIL/blob/main/aula25set2024.ipynb\" target=\"_parent\"><img src=\"https://colab.research.google.com/assets/colab-badge.svg\" alt=\"Open In Colab\"/></a>"
      ]
    },
    {
      "cell_type": "markdown",
      "source": [
        "EXEMPLO 08\n",
        "Programa que utilize estrutura de repetição while para perguntar ao usuário se deseja ou não realizar a soma de 2 variáveis:"
      ],
      "metadata": {
        "id": "rFaReyI5t_et"
      }
    },
    {
      "cell_type": "code",
      "execution_count": null,
      "metadata": {
        "id": "m4XnLgD4ntLg"
      },
      "outputs": [],
      "source": [
        "while True:\n",
        "  resposta=input(\"deseja realizar a soma de 2 variáveis? (S/N):\").strip().upper()\n",
        "  if resposta == \"S\":\n",
        "    var1 = float(input(\"digite o valor da primeira variável: \"))\n",
        "    var2 = float(input(\"digite o valor da segunda variável: \"))\n",
        "    soma - var1 + var2\n",
        "    print(f\"a soma de {var1} e {var2} é: {soma:.2f}/n\")\n",
        "  elif resposta =='N':\n",
        "    print(\"operação finalizada.\")\n",
        "    break\n",
        "  else:\n",
        "    print(\"resposta inválida! Por favor, digite 'S' para Sim ou 'N' para Não./n \")"
      ]
    },
    {
      "cell_type": "markdown",
      "source": [
        "EXEMPLO 09"
      ],
      "metadata": {
        "id": "eIFtC_Nw0-Yp"
      }
    },
    {
      "cell_type": "code",
      "source": [],
      "metadata": {
        "id": "_pBiw6FV4wA3"
      },
      "execution_count": null,
      "outputs": []
    }
  ]
}