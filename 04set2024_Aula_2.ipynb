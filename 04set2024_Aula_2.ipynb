{
  "nbformat": 4,
  "nbformat_minor": 0,
  "metadata": {
    "colab": {
      "provenance": [],
      "mount_file_id": "1ncQSeiONhIUv5dav9XIwTbsLhklvox57",
      "authorship_tag": "ABX9TyOL/Gd21tt1DCofDgE1ROrl",
      "include_colab_link": true
    },
    "kernelspec": {
      "name": "python3",
      "display_name": "Python 3"
    },
    "language_info": {
      "name": "python"
    }
  },
  "cells": [
    {
      "cell_type": "markdown",
      "metadata": {
        "id": "view-in-github",
        "colab_type": "text"
      },
      "source": [
        "<a href=\"https://colab.research.google.com/github/Isabelly-22/TurmaCIVIL/blob/main/04set2024_Aula_2.ipynb\" target=\"_parent\"><img src=\"https://colab.research.google.com/assets/colab-badge.svg\" alt=\"Open In Colab\"/></a>"
      ]
    },
    {
      "cell_type": "code",
      "execution_count": 3,
      "metadata": {
        "colab": {
          "base_uri": "https://localhost:8080/"
        },
        "id": "JmsN1kFIhJ3x",
        "outputId": "156cba6b-51b9-4e24-9a76-3469c94363d1"
      },
      "outputs": [
        {
          "output_type": "stream",
          "name": "stdout",
          "text": [
            "digite a média em polegada: 2\n",
            "Valor em milimetros:  50.8\n"
          ]
        }
      ],
      "source": [
        "p = float(input(\"digite a média em polegada: \"))\n",
        "mm = p*25.4\n",
        "print ( \"Valor em milimetros: \",mm)"
      ]
    },
    {
      "cell_type": "markdown",
      "source": [
        "Aula 2\n",
        "\n",
        "polegadas = float(input(\"digite a média em polegada: \"))\n",
        "p = float(input(\"digite a média em polegada: \"))\n",
        "mm = p*25.4\n",
        "print ( \"Valor em milimetros: \",mm)\n"
      ],
      "metadata": {
        "id": "1EWsiyyBhPgS"
      }
    },
    {
      "cell_type": "markdown",
      "source": [
        "EXERCICIO 5"
      ],
      "metadata": {
        "id": "H-jjQ81wuVH0"
      }
    },
    {
      "cell_type": "code",
      "source": [
        "from math import pi\n",
        "r = float(input(\"Digite o raio: \"))\n",
        "v = (4/3)*pi*r**3\n",
        "print(v)"
      ],
      "metadata": {
        "colab": {
          "base_uri": "https://localhost:8080/"
        },
        "id": "SMkOnhI8qRgJ",
        "outputId": "7c96a7ff-3c98-4329-8aa5-8e6b9fb8bc4a"
      },
      "execution_count": 18,
      "outputs": [
        {
          "output_type": "stream",
          "name": "stdout",
          "text": [
            "Digite o raio: 3\n",
            "113.09733552923254\n"
          ]
        }
      ]
    },
    {
      "cell_type": "markdown",
      "source": [
        "EXERCIO 6"
      ],
      "metadata": {
        "id": "ZKr9RyRDuc3s"
      }
    },
    {
      "cell_type": "code",
      "source": [
        "import math\n",
        "g = float(input(\"Digite o angulo em graus: \"))\n",
        "r = g*(pi/180)\n",
        "print(r)\n"
      ],
      "metadata": {
        "colab": {
          "base_uri": "https://localhost:8080/"
        },
        "id": "CUacfJZFtAPT",
        "outputId": "d1d0408d-afda-4bf3-87c8-fb7b114373a2"
      },
      "execution_count": 19,
      "outputs": [
        {
          "output_type": "stream",
          "name": "stdout",
          "text": [
            "Digite o angulo em graus: 5\n",
            "0.08726646259971647\n"
          ]
        }
      ]
    },
    {
      "cell_type": "markdown",
      "source": [
        "EXERCICIO 7"
      ],
      "metadata": {
        "id": "Yf0xLyWfvRDq"
      }
    },
    {
      "cell_type": "code",
      "source": [
        "import math\n",
        "r = float(input(\"Digite o angulo em radianos: \"))\n",
        "g = r*(180/pi)\n",
        "print(g)"
      ],
      "metadata": {
        "colab": {
          "base_uri": "https://localhost:8080/"
        },
        "id": "OgyLcnrKuPnM",
        "outputId": "98abad34-5ec8-41d0-c4a1-f24a64e02a48"
      },
      "execution_count": 20,
      "outputs": [
        {
          "output_type": "stream",
          "name": "stdout",
          "text": [
            "Digite o angulo em radianos: 2\n",
            "114.59155902616465\n"
          ]
        }
      ]
    },
    {
      "cell_type": "markdown",
      "source": [
        "EXERCICIO 8"
      ],
      "metadata": {
        "id": "dqVupaUTv9GP"
      }
    },
    {
      "cell_type": "code",
      "source": [
        "import math\n",
        "r = float(input(\"Digite o angulo em radianos: \"))\n",
        "gr = r*(200/pi)\n",
        "print(g)"
      ],
      "metadata": {
        "colab": {
          "base_uri": "https://localhost:8080/"
        },
        "id": "QlOYgOCXvTdc",
        "outputId": "179a5088-e06b-429b-c09c-c1af81da1adf"
      },
      "execution_count": 22,
      "outputs": [
        {
          "output_type": "stream",
          "name": "stdout",
          "text": [
            "Digite o angulo em radianos: 10\n",
            "114.59155902616465\n"
          ]
        }
      ]
    }
  ]
}