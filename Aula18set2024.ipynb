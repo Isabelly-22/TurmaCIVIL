{
  "nbformat": 4,
  "nbformat_minor": 0,
  "metadata": {
    "colab": {
      "provenance": [],
      "authorship_tag": "ABX9TyMoQikCFbGx5r90v8W6xDDe",
      "include_colab_link": true
    },
    "kernelspec": {
      "name": "python3",
      "display_name": "Python 3"
    },
    "language_info": {
      "name": "python"
    }
  },
  "cells": [
    {
      "cell_type": "markdown",
      "metadata": {
        "id": "view-in-github",
        "colab_type": "text"
      },
      "source": [
        "<a href=\"https://colab.research.google.com/github/Isabelly-22/TurmaCIVIL/blob/main/Aula18set2024.ipynb\" target=\"_parent\"><img src=\"https://colab.research.google.com/assets/colab-badge.svg\" alt=\"Open In Colab\"/></a>"
      ]
    },
    {
      "cell_type": "markdown",
      "source": [
        "EXERCICIOS EXTRAS 1"
      ],
      "metadata": {
        "id": "0Reu8P1Cqy7t"
      }
    },
    {
      "cell_type": "code",
      "execution_count": 1,
      "metadata": {
        "colab": {
          "base_uri": "https://localhost:8080/"
        },
        "id": "PE1lwG_nlOh_",
        "outputId": "0d0fcf85-f03b-4ce1-b698-2fd3b3dcb064"
      },
      "outputs": [
        {
          "output_type": "stream",
          "name": "stdout",
          "text": [
            "digite um numero inteiro10\n",
            "o numero não é multiplo de 3\n"
          ]
        }
      ],
      "source": [
        "numero = int(input(\"digite um numero inteiro\"))\n",
        "if numero % 3 == 0:\n",
        "  print(f\"O numero {numero} é multiplo de 3\")\n",
        "else:\n",
        "  print(\"o numero não é multiplo de 3\")\n"
      ]
    },
    {
      "cell_type": "markdown",
      "source": [
        "EXERCIO 2"
      ],
      "metadata": {
        "id": "Xutlz_ndvuvZ"
      }
    },
    {
      "cell_type": "code",
      "source": [
        "nota_a = float(input(\"digite a nota a:\"))\n",
        "nota_b = float(input(\"digite a nota b:\"))\n",
        "media_ponderada = (nota_a * 2 + nota_b * 3) / 5\n",
        "print(f\"a media ponderada é \", media_ponderada)\n",
        "if media_ponderada >= 5:\n",
        "  print(\"aprovado\")\n",
        "else:\n",
        "  print(\"reprovado\")"
      ],
      "metadata": {
        "colab": {
          "base_uri": "https://localhost:8080/"
        },
        "id": "UUFUiFTMq67C",
        "outputId": "e5f3bf9d-d783-45a3-e8dc-77efdfdeb984"
      },
      "execution_count": 7,
      "outputs": [
        {
          "output_type": "stream",
          "name": "stdout",
          "text": [
            "digite a nota a:4\n",
            "digite a nota b:7\n",
            "a media ponderada é  5.8\n",
            "aprovado\n"
          ]
        }
      ]
    },
    {
      "cell_type": "markdown",
      "source": [
        "EXERCICIO 3"
      ],
      "metadata": {
        "id": "A-IiPleezCbs"
      }
    },
    {
      "cell_type": "code",
      "source": [
        "a = float(input(\"digite a:\"))\n",
        "b = float(input(\"digite b:\"))\n",
        "c = float(input(\"digite c:\"))\n",
        "if a<=b and a<=c:\n",
        "  menor = a\n",
        "elif b<=a and b<=c:\n",
        "  menor=b\n",
        "else:\n",
        "  menor=c\n",
        "print(menor)\n"
      ],
      "metadata": {
        "colab": {
          "base_uri": "https://localhost:8080/"
        },
        "id": "ngWWaGGmwScD",
        "outputId": "c7f5573d-cf03-4411-a4df-00609a1c9d77"
      },
      "execution_count": 8,
      "outputs": [
        {
          "output_type": "stream",
          "name": "stdout",
          "text": [
            "digite a:5\n",
            "digite b:2\n",
            "digite c:8\n",
            "2.0\n"
          ]
        }
      ]
    },
    {
      "cell_type": "markdown",
      "source": [
        "for i in range(10)\n"
      ],
      "metadata": {
        "id": "dyMQSbxazMM9"
      }
    },
    {
      "cell_type": "code",
      "source": [
        "#para contar de 2 até 6 de 3 em 3\n",
        "#for VARAVEL in RANGE(inicio, fim, incremento)\n",
        "for i in range(2,6,3):\n",
        "  print(i)"
      ],
      "metadata": {
        "colab": {
          "base_uri": "https://localhost:8080/"
        },
        "id": "yba9NIvp0gkd",
        "outputId": "c3cb598c-fd96-49c7-d1ea-dfdbb2d86d31"
      },
      "execution_count": 12,
      "outputs": [
        {
          "output_type": "stream",
          "name": "stdout",
          "text": [
            "2\n",
            "5\n"
          ]
        }
      ]
    },
    {
      "cell_type": "code",
      "source": [
        "for i in range (10):\n",
        "  print(i)"
      ],
      "metadata": {
        "colab": {
          "base_uri": "https://localhost:8080/"
        },
        "id": "K_STN_c-0Ii6",
        "outputId": "1b1be3f9-4ab5-487c-ce55-ba18e5199259"
      },
      "execution_count": 9,
      "outputs": [
        {
          "output_type": "stream",
          "name": "stdout",
          "text": [
            "0\n",
            "1\n",
            "2\n",
            "3\n",
            "4\n",
            "5\n",
            "6\n",
            "7\n",
            "8\n",
            "9\n"
          ]
        }
      ]
    },
    {
      "cell_type": "code",
      "source": [
        "for i in range(2,6,3):\n",
        "  print(i)"
      ],
      "metadata": {
        "id": "kjGCDFxU1t0c"
      },
      "execution_count": null,
      "outputs": []
    }
  ]
}