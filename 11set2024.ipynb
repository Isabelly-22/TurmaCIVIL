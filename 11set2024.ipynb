{
  "nbformat": 4,
  "nbformat_minor": 0,
  "metadata": {
    "colab": {
      "provenance": [],
      "authorship_tag": "ABX9TyMgkjGPFk6JT+W18g6rriOf",
      "include_colab_link": true
    },
    "kernelspec": {
      "name": "python3",
      "display_name": "Python 3"
    },
    "language_info": {
      "name": "python"
    }
  },
  "cells": [
    {
      "cell_type": "markdown",
      "metadata": {
        "id": "view-in-github",
        "colab_type": "text"
      },
      "source": [
        "<a href=\"https://colab.research.google.com/github/Isabelly-22/TurmaCIVIL/blob/main/11set2024.ipynb\" target=\"_parent\"><img src=\"https://colab.research.google.com/assets/colab-badge.svg\" alt=\"Open In Colab\"/></a>"
      ]
    },
    {
      "cell_type": "markdown",
      "source": [
        "SE OU SENÃO EXEMPLO 03"
      ],
      "metadata": {
        "id": "B6xKjeKNqkt_"
      }
    },
    {
      "cell_type": "code",
      "execution_count": 4,
      "metadata": {
        "colab": {
          "base_uri": "https://localhost:8080/"
        },
        "id": "AZpoDRQGoQL7",
        "outputId": "3a124172-4f5f-4eaa-f716-abfbe760f08d"
      },
      "outputs": [
        {
          "output_type": "stream",
          "name": "stdout",
          "text": [
            "digite um numero inteiro: 5\n",
            "o numero 5 é ímpar.\n"
          ]
        }
      ],
      "source": [
        "numero = int(input(\"digite um numero inteiro: \"))\n",
        "if numero % 2 == 0:\n",
        "  print(f\"o numero {numero} é par.\")\n",
        "else:\n",
        "  print(f\"o numero {numero} é ímpar.\")"
      ]
    },
    {
      "cell_type": "markdown",
      "source": [
        "EXEMPLO 04"
      ],
      "metadata": {
        "id": "561_8_EKqs-O"
      }
    },
    {
      "cell_type": "code",
      "source": [
        "import math\n",
        "numero = float(input(\"digite um numero: \"))\n",
        "if numero >= 0:\n",
        "  raiz_quadrada = math.sqrt(numero)\n",
        "  print(f\"a raiz quadrada de {numero} é {raiz_quadrada:.2f}.\")\n",
        "else:\n",
        "  print(f\"não existe raiz real para este numero!\")"
      ],
      "metadata": {
        "colab": {
          "base_uri": "https://localhost:8080/"
        },
        "id": "RSQpaEekqsNN",
        "outputId": "7e45643c-f25c-4136-d03a-7674a78d1162"
      },
      "execution_count": 7,
      "outputs": [
        {
          "output_type": "stream",
          "name": "stdout",
          "text": [
            "digite um numero: 10\n",
            "a raiz quadrada de 10.0 é 3.16.\n"
          ]
        }
      ]
    },
    {
      "cell_type": "markdown",
      "source": [
        "EXEMPLO 05"
      ],
      "metadata": {
        "id": "YQB3ewCstCDC"
      }
    },
    {
      "cell_type": "code",
      "source": [
        "comprimento = float(input(\"digite o comprimento da camiseta em centimetros: \"))\n",
        "largura = float(input(\"digite a largura da camiseta em centimetros: \"))\n",
        "if comprimento <= 60 and largura <= 45:\n",
        "  tamanho = \"pp\"\n",
        "elif comprimento <= 65 and largura <= 48:\n",
        "  tamanho = \"p\"\n",
        "elif comprimento <= 70 and largura <= 51:\n",
        "  tamanho = \"M\"\n",
        "elif comprimento <= 75 and largura <= 54:\n",
        "  tamanho = \"G\"\n",
        "elif comprimento <= 80 and largura <= 57:\n",
        "  tamanho = \"GG\"\n",
        "else:\n",
        "  tamanho = \"XGG\"\n",
        "print(f\"o tamanho da camiseta é {tamanho}.\")"
      ],
      "metadata": {
        "colab": {
          "base_uri": "https://localhost:8080/"
        },
        "id": "QkGUbfXhtEqK",
        "outputId": "afb6cb46-d4cd-4c46-ca0d-24cadc55d8de"
      },
      "execution_count": 11,
      "outputs": [
        {
          "output_type": "stream",
          "name": "stdout",
          "text": [
            "digite o comprimento da camiseta em centimetros: 70\n",
            "digite a largura da camiseta em centimetros: 50\n",
            "o tamanho da camiseta é M.\n"
          ]
        }
      ]
    },
    {
      "cell_type": "code",
      "source": [],
      "metadata": {
        "id": "NBoh2VoHtBtL"
      },
      "execution_count": null,
      "outputs": []
    }
  ]
}